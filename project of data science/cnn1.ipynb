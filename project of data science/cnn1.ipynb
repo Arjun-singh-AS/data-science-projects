{
 "cells": [
  {
   "cell_type": "code",
   "execution_count": 1,
   "id": "10b91f8e",
   "metadata": {},
   "outputs": [],
   "source": [
    "import pandas as pd\n",
    "import numpy as np\n",
    "import matplotlib.pyplot as plt\n",
    "import seaborn as sns\n",
    "sns.set()"
   ]
  },
  {
   "cell_type": "code",
   "execution_count": 2,
   "id": "606052a0",
   "metadata": {},
   "outputs": [],
   "source": [
    "import cv2\n",
    "import os\n",
    "from imutils import paths"
   ]
  },
  {
   "cell_type": "code",
   "execution_count": 3,
   "id": "5826506f",
   "metadata": {},
   "outputs": [],
   "source": [
    "imagepaths=list(paths.list_images(\"E:\\Deeplearning\\23_29\\dataset\\training_set\\dogs\"))"
   ]
  },
  {
   "cell_type": "code",
   "execution_count": 4,
   "id": "883d1261",
   "metadata": {},
   "outputs": [
    {
     "data": {
      "text/plain": [
       "[]"
      ]
     },
     "execution_count": 4,
     "metadata": {},
     "output_type": "execute_result"
    }
   ],
   "source": [
    "imagepaths"
   ]
  },
  {
   "cell_type": "code",
   "execution_count": 6,
   "id": "48b69937",
   "metadata": {},
   "outputs": [],
   "source": [
    "for imagepath in imagepaths:\n",
    "    image=cv2.imread(imagepath)\n",
    "    cv2.imshow(\"Frame\",image)\n",
    "    cv2.waitkey()\n",
    "\n",
    "cv2.destroyAllWindows()\n"
   ]
  },
  {
   "cell_type": "code",
   "execution_count": null,
   "id": "f7ee5767",
   "metadata": {},
   "outputs": [],
   "source": []
  }
 ],
 "metadata": {
  "kernelspec": {
   "display_name": "Python 3",
   "language": "python",
   "name": "python3"
  },
  "language_info": {
   "codemirror_mode": {
    "name": "ipython",
    "version": 3
   },
   "file_extension": ".py",
   "mimetype": "text/x-python",
   "name": "python",
   "nbconvert_exporter": "python",
   "pygments_lexer": "ipython3",
   "version": "3.8.8"
  }
 },
 "nbformat": 4,
 "nbformat_minor": 5
}
